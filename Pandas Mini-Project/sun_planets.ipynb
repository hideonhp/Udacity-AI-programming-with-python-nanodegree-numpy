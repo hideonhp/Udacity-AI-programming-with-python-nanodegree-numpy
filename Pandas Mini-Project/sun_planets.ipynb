{
 "cells": [
  {
   "cell_type": "code",
   "execution_count": 1,
   "metadata": {
    "grader_id": "8m97kc5slbl"
   },
   "outputs": [],
   "source": [
    "import pandas as pd\n",
    "\n",
    "# DO NOT CHANGE THE VARIABLE NAMES\n",
    "\n",
    "# Given a list representing a few planets\n",
    "planets = ['Earth', 'Saturn', 'Venus', 'Mars', 'Jupiter']\n",
    "\n",
    "# Given another list representing the distance of each of these planets from the Sun\n",
    "# The distance from the Sun is in units of 10^6 km\n",
    "distance_from_sun = [149.6, 1433.5, 108.2, 227.9, 778.6]"
   ]
  },
  {
   "cell_type": "code",
   "execution_count": 2,
   "metadata": {
    "grader_id": "9o9ycn28toj"
   },
   "outputs": [],
   "source": [
    "# TO DO: Create a Pandas Series \"dist_planets\" using the lists above, representing the distance of the planet from the Sun.\n",
    "# Use the `distance_from_sun` as your data, and `planets` as your index.\n",
    "dist_planets = pd.Series(distance_from_sun, index=planets)"
   ]
  },
  {
   "cell_type": "code",
   "execution_count": 3,
   "metadata": {
    "grader_id": "nwna73daf5"
   },
   "outputs": [],
   "source": [
    "# TO DO: Calculate the time (minutes) it takes light from the Sun to reach each planet. \n",
    "# You can do this by dividing each planet's distance from the Sun by the speed of light.\n",
    "# Use the speed of light, c = 18, since light travels 18 x 10^6 km/minute.\n",
    "speed_of_light = 18\n",
    "time_light = dist_planets / speed_of_light"
   ]
  },
  {
   "cell_type": "code",
   "execution_count": 4,
   "metadata": {
    "edited": true,
    "gradable": true,
    "grader_id": "f0swercjkwi",
    "udacity_user_query": ""
   },
   "outputs": [],
   "source": [
    "# TO DO: Use Boolean indexing to select only those planets for which sunlight takes less\n",
    "# than 40 minutes to reach them.\n",
    "close_planets = time_light[time_light < 40]"
   ]
  }
 ],
 "metadata": {
  "grader_mode": "",
  "kernelspec": {
   "display_name": "Python 3",
   "language": "python",
   "name": "python3"
  },
  "language_info": {
   "codemirror_mode": {
    "name": "ipython",
    "version": 3
   },
   "file_extension": ".py",
   "mimetype": "text/x-python",
   "name": "python",
   "nbconvert_exporter": "python",
   "pygments_lexer": "ipython3",
   "version": "3.6.3"
  },
  "showGradeBtn": true
 },
 "nbformat": 4,
 "nbformat_minor": 2
}
